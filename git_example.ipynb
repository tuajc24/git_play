{
 "cells": [
  {
   "cell_type": "code",
   "execution_count": 1,
   "id": "1faf6dc0-733b-48ab-adca-54b07f64d079",
   "metadata": {
    "tags": []
   },
   "outputs": [],
   "source": [
    "import pandas as pd\n",
    "from sklearn.datasets import make_classification\n"
   ]
  },
  {
   "cell_type": "code",
   "execution_count": 2,
   "id": "4f5586ab-715f-41fe-a25d-a746fe4e429f",
   "metadata": {
    "tags": []
   },
   "outputs": [],
   "source": [
    "#this is just a git demo"
   ]
  },
  {
   "cell_type": "code",
   "execution_count": 4,
   "id": "d518cfdb-937f-4494-908d-fad511b837f7",
   "metadata": {
    "tags": []
   },
   "outputs": [],
   "source": [
    "#something changed"
   ]
  },
  {
   "cell_type": "code",
   "execution_count": null,
   "id": "85837815-201e-4fc4-8f0b-26aa77c876d3",
   "metadata": {},
   "outputs": [],
   "source": []
  }
 ],
 "metadata": {
  "kernelspec": {
   "display_name": "Python 3 (ipykernel)",
   "language": "python",
   "name": "python3"
  },
  "language_info": {
   "codemirror_mode": {
    "name": "ipython",
    "version": 3
   },
   "file_extension": ".py",
   "mimetype": "text/x-python",
   "name": "python",
   "nbconvert_exporter": "python",
   "pygments_lexer": "ipython3",
   "version": "3.11.4"
  }
 },
 "nbformat": 4,
 "nbformat_minor": 5
}
